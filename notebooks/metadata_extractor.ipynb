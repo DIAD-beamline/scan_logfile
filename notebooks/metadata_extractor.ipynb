{
 "cells": [
  {
   "cell_type": "code",
   "execution_count": 75,
   "id": "9923d589-beae-4187-bc2d-beb9bafb1035",
   "metadata": {},
   "outputs": [],
   "source": [
    "import h5py\n",
    "\n",
    "import re\n",
    "import os"
   ]
  },
  {
   "cell_type": "code",
   "execution_count": 43,
   "id": "f6ef8d2a-7d71-49b8-a6d0-bd495464e3b5",
   "metadata": {},
   "outputs": [],
   "source": [
    "# Load the provided file\n",
    "file_path = '/Users/fsd59835/globus/k11-45357.nxs' # for nix type OS\n"
   ]
  },
  {
   "cell_type": "code",
   "execution_count": 44,
   "id": "90c96dd0-317b-435a-b066-70ff5170d524",
   "metadata": {},
   "outputs": [],
   "source": [
    "# Read and print the value of 'experiment_identifier'\n",
    "with h5py.File(file_path, 'r') as file:\n",
    "    start_time = file['entry/start_time'][()]\n",
    "    beamline = file['entry/instrument/beamline'][()]\n",
    "    experiment_no = file['entry/experiment_identifier'][()]\n",
    "    nominal_energy = file['entry/instrument/configuration_summary/Imaging/nominal_energy'][()]\n",
    "    config_summary_type = file['entry/instrument/configuration_summary/Imaging/type'][()]\n",
    "    pco_z = file['entry/instrument/pco/pco_z'][()]\n",
    "    flats = (file['entry/instrument/imaging/image_key'][()] == 1).sum()\n",
    "    no_proj = (file['entry/instrument/imaging/image_key'][()] == 0).sum()\n",
    "    darks = (file['entry/instrument/imaging/image_key'][()] == 2).sum()\n",
    "    pco_exp = file['entry/instrument/imaging/count_time'][()]\n",
    "    duration = (file['entry/duration'][()])/1000\n",
    "   \n",
    "    scan_request = file['entry/diamond_scan/scan_request'][()].decode('utf-8')"
   ]
  },
  {
   "cell_type": "code",
   "execution_count": 76,
   "id": "aefb5e34-d4aa-455b-8fcf-7b6e72cce06e",
   "metadata": {},
   "outputs": [],
   "source": [
    "####some post processing\n",
    "\n",
    "scan_no = os.path.splitext(os.path.basename(file_path))[0]\n",
    "\n",
    "#convert seconds to Hr, mins\n",
    "dur_hr = int(duration // 3600)\n",
    "dur_min = int((duration % 3600) // 60)\n",
    "dur_sec = duration % 60\n",
    "\n",
    "# Convert the start time to a human-readable format\n",
    "time_str = start_time.decode('utf-8')\n",
    "start_timeHR= datetime.strptime(time_str, \"%Y-%m-%dT%H:%M:%S.%f\")\n",
    "\n",
    "# Use regex to find the file path that follows the word \"savu\"\n",
    "savu_path_match = re.search(r'savu\"\\s*:\\s*\"\\s*(.*?)\"', scan_request)\n",
    "savu_path = savu_path_match.group(1) if savu_path_match else None\n",
    "\n",
    "# Use regex to find all sequences of start, stop, and step values in the scan_request\n",
    "theta_info = re.findall(r'start\"\\s*:\\s*(-?\\d+\\.?\\d*),\\s*\"stop\"\\s*:\\s*(-?\\d+\\.?\\d*),\\s*\"step\"\\s*:\\s*(-?\\d+\\.?\\d*)', scan_request)\n"
   ]
  },
  {
   "cell_type": "code",
   "execution_count": 88,
   "id": "e88a8198-b2ad-47f6-8f82-22b8ae1b4b0f",
   "metadata": {
    "scrolled": true
   },
   "outputs": [
    {
     "name": "stdout",
     "output_type": "stream",
     "text": [
      "Beamline : k11\n",
      "Experiment no. : mg36270-1\n",
      "\n",
      "Scan no. : k11-45357\n",
      "Start time : Wednesday, July 31, 2024 at 11:52:39 PM\n",
      "Duration : 0:34:59.2\n",
      "\n",
      "X-ray beam type : Monochromatic\n",
      "Nominal energy (keV) : 14.07\n",
      "Propogation dist. (mm) : 150.001\n",
      "\n",
      "Exposure time (s) : 0.5\n",
      "No. of flats : 40\n",
      "No. of darks : 40\n",
      "No. of projection : 4020\n",
      "Start angle : 0.0\n",
      "Stop angle : 180.0\n",
      "Angular step : 0.04478726051256531\n",
      "\n",
      "savu PL : /dls/k11/data/2024/mg36270-1/xml/tomography/configurations/Savu/full_fd_rr_vo_AST_tiff.nxs\n"
     ]
    }
   ],
   "source": [
    "print(\"Beamline : \" + beamline.decode('utf-8'))  # Decoding from bytes to string\n",
    "print(f\"Experiment no. : {experiment_no.decode('utf-8')}\\n\") # Decoding from bytes to string\n",
    "\n",
    "print(\"Scan no. : \"+scan_no)\n",
    "print(\"Start time : \"+start_timeHR.strftime(\"%A, %B %d, %Y at %I:%M:%S %p\"))\n",
    "print(f\"Duration : {dur_hr}:{dur_min}:{dur_sec:.1f}\\n\")\n",
    "\n",
    "print(\"X-ray beam type : \"+config_summary_type.decode('utf-8'))\n",
    "print(f\"Nominal energy (keV) : {nominal_energy}\")\n",
    "print (f\"Propogation dist. (mm) : {pco_z}\\n\")\n",
    "\n",
    "print(f\"Exposure time (s) : {pco_exp}\")\n",
    "print(f\"No. of flats : {flats}\")\n",
    "print(f\"No. of darks : {darks}\")\n",
    "print(f\"No. of projection : {no_proj}\")\n",
    "print(f\"Start angle : {theta_info[0][0]}\")\n",
    "print(f\"Stop angle : {theta_info[0][1]}\")\n",
    "print(f\"Angular step : {theta_info[0][2]}\\n\")\n",
    "\n",
    "print(\"savu PL : \"+savu_path)"
   ]
  },
  {
   "cell_type": "code",
   "execution_count": null,
   "id": "37755a28-559f-4ad0-ba13-f3c535eefae0",
   "metadata": {},
   "outputs": [],
   "source": []
  }
 ],
 "metadata": {
  "kernelspec": {
   "display_name": "Python 3 (ipykernel)",
   "language": "python",
   "name": "python3"
  },
  "language_info": {
   "codemirror_mode": {
    "name": "ipython",
    "version": 3
   },
   "file_extension": ".py",
   "mimetype": "text/x-python",
   "name": "python",
   "nbconvert_exporter": "python",
   "pygments_lexer": "ipython3",
   "version": "3.11.7"
  }
 },
 "nbformat": 4,
 "nbformat_minor": 5
}
